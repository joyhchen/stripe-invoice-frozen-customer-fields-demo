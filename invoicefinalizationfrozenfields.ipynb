{
  "nbformat": 4,
  "nbformat_minor": 0,
  "metadata": {
    "colab": {
      "provenance": []
    },
    "kernelspec": {
      "name": "python3",
      "display_name": "Python 3"
    },
    "language_info": {
      "name": "python"
    }
  },
  "cells": [
    {
      "cell_type": "markdown",
      "source": [
        "# Stripe invoice frozen customer fields demo\n",
        "\n",
        "Invoice finalization makes certain properties on the invoice immutable (https://docs.stripe.com/invoicing/integration/workflow-transitions#post-finalized). According to the docs, invoice.customer_address, invoice.customer_email, etc. *cannot* be changed after the invoice has been finalized.\n",
        "\n",
        "In practice, this means if you...\n",
        "\n",
        "1. Make an invoice with customer_address = foo@test.com\n",
        "2. Finalize the invoice\n",
        "3. Edit the customer address to bar@test.com\n",
        "4. The customer's email on the finalized invoice will still be foo@test.com\n",
        "\n",
        "This notebook demonstrates that changing customer details after invoice finalization doesn't impact the invoice."
      ],
      "metadata": {
        "id": "TE1Pa4PQfI-a"
      }
    },
    {
      "cell_type": "markdown",
      "source": [
        "# Step 1: Set up Stripe"
      ],
      "metadata": {
        "id": "DMywtgh_dOkY"
      }
    },
    {
      "cell_type": "code",
      "execution_count": null,
      "metadata": {
        "id": "a_0DvSqLaaR6"
      },
      "outputs": [],
      "source": [
        "%pip install stripe"
      ]
    },
    {
      "cell_type": "code",
      "source": [
        "%pip install python-dotenv"
      ],
      "metadata": {
        "id": "KSnI8oE4cshh"
      },
      "execution_count": null,
      "outputs": []
    },
    {
      "cell_type": "code",
      "source": [
        "import os\n",
        "from dotenv import load_dotenv, find_dotenv\n",
        "load_dotenv(find_dotenv())\n",
        "\n",
        "stripe_sk = os.environ['STRIPE_SECRET_KEY']\n",
        "print('hello world')"
      ],
      "metadata": {
        "id": "3Ina15VKcxYa"
      },
      "execution_count": null,
      "outputs": []
    },
    {
      "cell_type": "code",
      "source": [
        "import stripe\n",
        "stripe.api_key = stripe_sk"
      ],
      "metadata": {
        "id": "8-oDeJo4dj0f"
      },
      "execution_count": 5,
      "outputs": []
    },
    {
      "cell_type": "markdown",
      "source": [
        "# Step 2: Create a customer"
      ],
      "metadata": {
        "id": "rp2COgtWdW4t"
      }
    },
    {
      "cell_type": "code",
      "source": [
        "customer = stripe.Customer.create(\n",
        "    email=\"test@email.com\",\n",
        "    description=\"Customer for testing\",\n",
        "    name=\"Stripe Customer\",\n",
        "    tax_id_data=[{\"type\": \"eu_vat\", \"value\": \"CZ1234567890\"}],\n",
        "    address={\n",
        "        \"city\": \"San Francisco\",\n",
        "        \"state\": \"California\",\n",
        "        \"country\": \"US\"\n",
        "    }\n",
        ")"
      ],
      "metadata": {
        "id": "fX3RXO67db2m"
      },
      "execution_count": 11,
      "outputs": []
    },
    {
      "cell_type": "code",
      "source": [
        "customer_id = customer.id\n",
        "print(customer_id)"
      ],
      "metadata": {
        "colab": {
          "base_uri": "https://localhost:8080/"
        },
        "id": "wBWw0qL_ego-",
        "outputId": "eecbea04-9413-425c-88be-1227020ca85a"
      },
      "execution_count": 12,
      "outputs": [
        {
          "output_type": "stream",
          "name": "stdout",
          "text": [
            "cus_Q8Jd52xGH6DFhR\n"
          ]
        }
      ]
    },
    {
      "cell_type": "markdown",
      "source": [
        "# Step 3: Create and finalize an invoice"
      ],
      "metadata": {
        "id": "qWKwnk61fDk0"
      }
    },
    {
      "cell_type": "code",
      "source": [
        "invoice = stripe.Invoice.create(\n",
        "    customer=customer_id\n",
        ")"
      ],
      "metadata": {
        "id": "auUSUha5fF17"
      },
      "execution_count": 13,
      "outputs": []
    },
    {
      "cell_type": "code",
      "source": [
        "invoice_id = invoice.id\n",
        "print(invoice_id)"
      ],
      "metadata": {
        "colab": {
          "base_uri": "https://localhost:8080/"
        },
        "id": "36TxwcOofz4d",
        "outputId": "9c432635-4bfc-4c49-af90-3bf92195a4ed"
      },
      "execution_count": 14,
      "outputs": [
        {
          "output_type": "stream",
          "name": "stdout",
          "text": [
            "in_1PI33RGC4ECGOX3CNUrWNdGT\n"
          ]
        }
      ]
    },
    {
      "cell_type": "code",
      "source": [
        "product = stripe.Product.create(name=\"sour patch kids\")\n",
        "price = stripe.Price.create(product=product.id, unit_amount=1000, currency='usd')\n",
        "stripe.InvoiceItem.create(\n",
        "  customer=customer_id,\n",
        "  price=price.id,\n",
        "  invoice=invoice_id,\n",
        ")\n",
        "stripe.Invoice.finalize_invoice(invoice_id)"
      ],
      "metadata": {
        "id": "k7uONW2whUlu"
      },
      "execution_count": null,
      "outputs": []
    },
    {
      "cell_type": "code",
      "source": [
        "invoice = stripe.Invoice.retrieve(invoice_id)\n",
        "print(\"Email: \", invoice.customer_email)\n",
        "print(\"Address: \", invoice.customer_address)\n",
        "print(\"Name: \", invoice.customer_name)\n",
        "print(\"Tax IDs: \", invoice.customer_tax_ids)"
      ],
      "metadata": {
        "colab": {
          "base_uri": "https://localhost:8080/"
        },
        "id": "-ZabhHU3iNRu",
        "outputId": "052f43a3-abca-4faf-88ce-8ff25598fe28"
      },
      "execution_count": 19,
      "outputs": [
        {
          "output_type": "stream",
          "name": "stdout",
          "text": [
            "Email:  test@email.com\n",
            "Address:  {\n",
            "  \"city\": \"San Francisco\",\n",
            "  \"country\": \"US\",\n",
            "  \"line1\": null,\n",
            "  \"line2\": null,\n",
            "  \"postal_code\": null,\n",
            "  \"state\": \"California\"\n",
            "}\n",
            "Name:  Stripe Customer\n",
            "Tax IDs:  [<CustomerTaxId at 0x79f140904c20> JSON: {\n",
            "  \"type\": \"eu_vat\",\n",
            "  \"value\": \"CZ1234567890\"\n",
            "}]\n"
          ]
        }
      ]
    },
    {
      "cell_type": "markdown",
      "source": [
        "# Step 4: Update the customer and re-retrieve invoice"
      ],
      "metadata": {
        "id": "oPVX2axfiKES"
      }
    },
    {
      "cell_type": "code",
      "source": [
        "stripe.Customer.modify(\n",
        "    id=customer_id,\n",
        "    email=\"taylorswift13@email.com\",\n",
        "    name=\"New Name\",\n",
        "    address={\n",
        "        \"city\": \"Seattle\",\n",
        "        \"state\": \"Washington\",\n",
        "        \"country\": \"US\"\n",
        "    }\n",
        "  )"
      ],
      "metadata": {
        "id": "DjFu7M2AikVH"
      },
      "execution_count": null,
      "outputs": []
    },
    {
      "cell_type": "code",
      "source": [
        "stripe.TaxId.create(type=\"eu_vat\", value=\"ATU12345678\", owner={\"type\": \"customer\", \"customer\": customer_id})"
      ],
      "metadata": {
        "id": "Dus65j40jYB8"
      },
      "execution_count": null,
      "outputs": []
    },
    {
      "cell_type": "code",
      "source": [
        "customer = stripe.Customer.retrieve(customer_id, expand=['tax_ids'])\n",
        "print(\"Email: \", customer.email)\n",
        "print(\"Address: \", customer.address)\n",
        "print(\"Name: \", customer.name)\n",
        "print(\"Tax IDs: \", customer.tax_ids)"
      ],
      "metadata": {
        "colab": {
          "base_uri": "https://localhost:8080/"
        },
        "id": "XroKhH1zjx68",
        "outputId": "f786d87c-b0ba-48e3-ac65-859163a4acf0"
      },
      "execution_count": 27,
      "outputs": [
        {
          "output_type": "stream",
          "name": "stdout",
          "text": [
            "Email:  taylorswift13@email.com\n",
            "Address:  {\n",
            "  \"city\": \"Seattle\",\n",
            "  \"country\": \"US\",\n",
            "  \"line1\": null,\n",
            "  \"line2\": null,\n",
            "  \"postal_code\": null,\n",
            "  \"state\": \"Washington\"\n",
            "}\n",
            "Name:  New Name\n",
            "Tax IDs:  {\n",
            "  \"data\": [\n",
            "    {\n",
            "      \"country\": \"CZ\",\n",
            "      \"created\": 1716099213,\n",
            "      \"customer\": \"cus_Q8Jd52xGH6DFhR\",\n",
            "      \"id\": \"txi_1PI2zxGC4ECGOX3Cr4e2dMNp\",\n",
            "      \"livemode\": false,\n",
            "      \"object\": \"tax_id\",\n",
            "      \"owner\": {\n",
            "        \"customer\": \"cus_Q8Jd52xGH6DFhR\",\n",
            "        \"type\": \"customer\"\n",
            "      },\n",
            "      \"type\": \"eu_vat\",\n",
            "      \"value\": \"CZ1234567890\",\n",
            "      \"verification\": {\n",
            "        \"status\": \"verified\",\n",
            "        \"verified_address\": \"123 TEST STREET\",\n",
            "        \"verified_name\": \"TEST\"\n",
            "      }\n",
            "    },\n",
            "    {\n",
            "      \"country\": \"AT\",\n",
            "      \"created\": 1716100462,\n",
            "      \"customer\": \"cus_Q8Jd52xGH6DFhR\",\n",
            "      \"id\": \"txi_1PI3K6GC4ECGOX3CpCtDdHC2\",\n",
            "      \"livemode\": false,\n",
            "      \"object\": \"tax_id\",\n",
            "      \"owner\": {\n",
            "        \"customer\": \"cus_Q8Jd52xGH6DFhR\",\n",
            "        \"type\": \"customer\"\n",
            "      },\n",
            "      \"type\": \"eu_vat\",\n",
            "      \"value\": \"ATU12345678\",\n",
            "      \"verification\": {\n",
            "        \"status\": \"verified\",\n",
            "        \"verified_address\": \"123 TEST STREET\",\n",
            "        \"verified_name\": \"TEST\"\n",
            "      }\n",
            "    }\n",
            "  ],\n",
            "  \"has_more\": false,\n",
            "  \"object\": \"list\",\n",
            "  \"total_count\": 2,\n",
            "  \"url\": \"/v1/customers/cus_Q8Jd52xGH6DFhR/tax_ids\"\n",
            "}\n"
          ]
        }
      ]
    },
    {
      "cell_type": "code",
      "source": [
        "# Invoice values frozen from the customer before finalization\n",
        "# remain unchanged.\n",
        "invoice = stripe.Invoice.retrieve(invoice_id)\n",
        "print(\"Email: \", invoice.customer_email)\n",
        "print(\"Address: \", invoice.customer_address)\n",
        "print(\"Name: \", invoice.customer_name)\n",
        "print(\"Tax IDs: \", invoice.customer_tax_ids)"
      ],
      "metadata": {
        "colab": {
          "base_uri": "https://localhost:8080/"
        },
        "id": "rqakY9CBkek5",
        "outputId": "da5c8096-cba7-4e18-9612-82e88c3b8af1"
      },
      "execution_count": 28,
      "outputs": [
        {
          "output_type": "stream",
          "name": "stdout",
          "text": [
            "Email:  test@email.com\n",
            "Address:  {\n",
            "  \"city\": \"San Francisco\",\n",
            "  \"country\": \"US\",\n",
            "  \"line1\": null,\n",
            "  \"line2\": null,\n",
            "  \"postal_code\": null,\n",
            "  \"state\": \"California\"\n",
            "}\n",
            "Name:  Stripe Customer\n",
            "Tax IDs:  [<CustomerTaxId at 0x79f142bb0fe0> JSON: {\n",
            "  \"type\": \"eu_vat\",\n",
            "  \"value\": \"CZ1234567890\"\n",
            "}]\n"
          ]
        }
      ]
    }
  ]
}